{
 "cells": [
  {
   "cell_type": "code",
   "execution_count": 0,
   "metadata": {
    "autoscroll": "json-false",
    "collapsed": false,
    "ein.tags": [
     "worksheet-0"
    ]
   },
   "outputs": [
    {
     "data": {
      "text/plain": [
       "test\t\n"
      ]
     },
     "execution_count": 0,
     "metadata": {},
     "output_type": "execute_result"
    }
   ],
   "source": [
    "print('test')"
   ]
  },
  {
   "cell_type": "code",
   "execution_count": 0,
   "metadata": {
    "autoscroll": "json-false",
    "collapsed": false,
    "ein.tags": [
     "worksheet-0"
    ]
   },
   "outputs": [
    {
     "data": {
      "text/plain": [
       "hello form lua and torch\t\n"
      ]
     },
     "execution_count": 0,
     "metadata": {},
     "output_type": "execute_result"
    }
   ],
   "source": [
    "print(\"hello form lua and torch\")"
   ]
  },
  {
   "cell_type": "code",
   "execution_count": 0,
   "metadata": {
    "autoscroll": "json-false",
    "collapsed": false,
    "ein.tags": [
     "worksheet-0"
    ]
   },
   "outputs": [
    {
     "data": {
      "text/plain": [
       "{\n",
       "  setDebug : function: 0x022838e8\n",
       "  Node : table: 0x021ab480\n",
       "  JustTable : table: 0x02288028\n",
       "  annotateNodes : function: 0x022839d8\n",
       "  nest : function: 0x021a4c90\n",
       "  JustElement : table: 0x02286e88\n",
       "  simple_print : \n",
       "    {\n",
       "      todot : function: 0x0228bf50\n",
       "      dot : function: 0x0228bfc8\n",
       "    }\n",
       "  display : function: 0x022839f8\n",
       "}\n"
      ]
     },
     "execution_count": 0,
     "metadata": {},
     "output_type": "execute_result"
    }
   ],
   "source": [
    "require 'nngraph';"
   ]
  },
  {
   "cell_type": "code",
   "execution_count": 0,
   "metadata": {
    "autoscroll": "json-false",
    "collapsed": false,
    "ein.tags": [
     "worksheet-0"
    ]
   },
   "outputs": [],
   "source": [
    "-- simple feed forward neural network easily\n",
    "-- common style to mark inputs with identity nodes for clarity\n",
    "input = nn.Identity()()"
   ]
  },
  {
   "cell_type": "code",
   "execution_count": 0,
   "metadata": {
    "autoscroll": "json-false",
    "collapsed": false,
    "ein.tags": [
     "worksheet-0"
    ]
   },
   "outputs": [
    {
     "ename": "/Users/jm/torch/install/share/lua/5.1/nngraph/gmodule.lua:124: Expected nnop.Parameters node, module not found in node\nstack traceback:\n\t[C]: in function 'assert'\n\t/Users/jm/torch/install/share/lua/5.1/nngraph/gmodule.lua:124: in function '__init'\n\t/Users/jm/torch/install/share/lua/5.1/torch/init.lua:91: in function </Users/jm/torch/install/share/lua/5.1/torch/init.lua:87>\n\t[C]: in function 'gModule'\n\t[string \"-- each hidden layer is achieved by connectin...\"]:5: in main chunk\n\t[C]: in function 'xpcall'\n\t/Users/jm/torch/install/share/lua/5.1/itorch/main.lua:209: in function </Users/jm/torch/install/share/lua/5.1/itorch/main.lua:173>\n\t/Users/jm/torch/install/share/lua/5.1/lzmq/poller.lua:75: in function 'poll'\n\t/Users/jm/torch/install/share/lua/5.1/lzmq/impl/loop.lua:307: in function 'poll'\n\t/Users/jm/torch/install/share/lua/5.1/lzmq/impl/loop.lua:325: in function 'sleep_ex'\n\t/Users/jm/torch/install/share/lua/5.1/lzmq/impl/loop.lua:370: in function 'start'\n\t/Users/jm/torch/install/share/lua/5.1/itorch/main.lua:381: in main chunk\n\t[C]: in function 'require'\n\t(command line):1: in main chunk\n\t[C]: at 0x01014edd20",
     "evalue": "",
     "output_type": "error",
     "traceback": [
      "/Users/jm/torch/install/share/lua/5.1/nngraph/gmodule.lua:124: Expected nnop.Parameters node, module not found in node\nstack traceback:\n\t[C]: in function 'assert'\n\t/Users/jm/torch/install/share/lua/5.1/nngraph/gmodule.lua:124: in function '__init'\n\t/Users/jm/torch/install/share/lua/5.1/torch/init.lua:91: in function </Users/jm/torch/install/share/lua/5.1/torch/init.lua:87>\n\t[C]: in function 'gModule'\n\t[string \"-- each hidden layer is achieved by connectin...\"]:5: in main chunk\n\t[C]: in function 'xpcall'\n\t/Users/jm/torch/install/share/lua/5.1/itorch/main.lua:209: in function </Users/jm/torch/install/share/lua/5.1/itorch/main.lua:173>\n\t/Users/jm/torch/install/share/lua/5.1/lzmq/poller.lua:75: in function 'poll'\n\t/Users/jm/torch/install/share/lua/5.1/lzmq/impl/loop.lua:307: in function 'poll'\n\t/Users/jm/torch/install/share/lua/5.1/lzmq/impl/loop.lua:325: in function 'sleep_ex'\n\t/Users/jm/torch/install/share/lua/5.1/lzmq/impl/loop.lua:370: in function 'start'\n\t/Users/jm/torch/install/share/lua/5.1/itorch/main.lua:381: in main chunk\n\t[C]: in function 'require'\n\t(command line):1: in main chunk\n\t[C]: at 0x01014edd20"
     ]
    }
   ],
   "source": [
    "-- each hidden layer is achieved by connecting the previous one\n",
    "-- here we define a single hidden layer network\n",
    "h1 = nn.Tanh()(nn.Linear(20, 10)(input))\n",
    "output = nn.Linear(10, 1)(h1)\n",
    "mlp = nn.gModule({input}, {output})\n",
    "\n",
    "x = torch.rand(20)\n",
    "dx = torch.rand(1)\n",
    "\n",
    "mlp:updateOutput(x)\n",
    "mlp:updateGradInput(x, dx)\n",
    "mlp:accGradParameters(x, dx)"
   ]
  },
  {
   "cell_type": "code",
   "execution_count": 0,
   "metadata": {
    "autoscroll": "json-false",
    "collapsed": false,
    "ein.tags": [
     "worksheet-0"
    ]
   },
   "outputs": [
    {
     "ename": "[string \"-- draw graph (the forward graph, '.fg')...\"]:3: attempt to index global 'mpl' (a nil value)\nstack traceback:\n\t[string \"-- draw graph (the forward graph, '.fg')...\"]:3: in main chunk\n\t[C]: in function 'xpcall'\n\t/Users/jm/torch/install/share/lua/5.1/itorch/main.lua:209: in function </Users/jm/torch/install/share/lua/5.1/itorch/main.lua:173>\n\t/Users/jm/torch/install/share/lua/5.1/lzmq/poller.lua:75: in function 'poll'\n\t/Users/jm/torch/install/share/lua/5.1/lzmq/impl/loop.lua:307: in function 'poll'\n\t/Users/jm/torch/install/share/lua/5.1/lzmq/impl/loop.lua:325: in function 'sleep_ex'\n\t/Users/jm/torch/install/share/lua/5.1/lzmq/impl/loop.lua:370: in function 'start'\n\t/Users/jm/torch/install/share/lua/5.1/itorch/main.lua:381: in main chunk\n\t[C]: in function 'require'\n\t(command line):1: in main chunk\n\t[C]: at 0x01014edd20",
     "evalue": "",
     "output_type": "error",
     "traceback": [
      "[string \"-- draw graph (the forward graph, '.fg')...\"]:3: attempt to index global 'mpl' (a nil value)\nstack traceback:\n\t[string \"-- draw graph (the forward graph, '.fg')...\"]:3: in main chunk\n\t[C]: in function 'xpcall'\n\t/Users/jm/torch/install/share/lua/5.1/itorch/main.lua:209: in function </Users/jm/torch/install/share/lua/5.1/itorch/main.lua:173>\n\t/Users/jm/torch/install/share/lua/5.1/lzmq/poller.lua:75: in function 'poll'\n\t/Users/jm/torch/install/share/lua/5.1/lzmq/impl/loop.lua:307: in function 'poll'\n\t/Users/jm/torch/install/share/lua/5.1/lzmq/impl/loop.lua:325: in function 'sleep_ex'\n\t/Users/jm/torch/install/share/lua/5.1/lzmq/impl/loop.lua:370: in function 'start'\n\t/Users/jm/torch/install/share/lua/5.1/itorch/main.lua:381: in main chunk\n\t[C]: in function 'require'\n\t(command line):1: in main chunk\n\t[C]: at 0x01014edd20"
     ]
    }
   ],
   "source": [
    "-- draw graph (the forward graph, '.fg')\n",
    "-- thsi will produce an SVG in the runtime directory\n",
    "graph.dot(mpl.fg, 'MLP', 'MLP')\n",
    "itorch.image('MPL.svg')"
   ]
  },
  {
   "cell_type": "code",
   "execution_count": 0,
   "metadata": {
    "autoscroll": "json-false",
    "collapsed": false,
    "ein.tags": [
     "worksheet-0"
    ]
   },
   "outputs": [
    {
     "data": {
      "text/html": [
       "<script type=\"text/javascript\">\n",
       "  $(function() {\n",
       "    $(\"#170864b3-51c1-48bb-c8b5-822ee5016f7f\").html('<?xml version=\"1.0\" encoding=\"UTF-8\" standalone=\"no\"?>\\n<!DOCTYPE svg PUBLIC \"-//W3C//DTD SVG 1.1//EN\"\\n \"http://www.w3.org/Graphics/SVG/1.1/DTD/svg11.dtd\">\\n<!-- Generated by graphviz version 2.38.0 (20140413.2041)\\n -->\\n<!-- Title: G Pages: 1 -->\\n<svg width=\"268pt\" height=\"810pt\"\\n viewBox=\"0.00 0.00 267.93 810.25\" xmlns=\"http://www.w3.org/2000/svg\" xmlns:xlink=\"http://www.w3.org/1999/xlink\">\\n<g id=\"graph0\" class=\"graph\" transform=\"scale(1 1) rotate(0) translate(4 806.254)\">\\n<title>G</title>\\n<polygon fill=\"white\" stroke=\"none\" points=\"-4,4 -4,-806.254 263.935,-806.254 263.935,4 -4,4\"/>\\n<!-- n1 -->\\n<g id=\"node1\" class=\"node\"><title>n1</title>\\n<g id=\"a_node1\"><a xlink:title=\"[[string &quot;local function get_network()...&quot;]]:9_\">\\n<ellipse fill=\"none\" stroke=\"black\" cx=\"129.967\" cy=\"-181.664\" rx=\"125.035\" ry=\"55.3091\"/>\\n<text text-anchor=\"middle\" x=\"129.967\" y=\"-205.464\" font-family=\"Times,serif\" font-size=\"14.00\">output (1)</text>\\n<text text-anchor=\"start\" x=\"49.5666\" y=\"-191.464\" font-family=\"Times,serif\" font-size=\"14.00\">input = {Tensor[10]}</text>\\n<text text-anchor=\"start\" x=\"49.5666\" y=\"-177.464\" font-family=\"Times,serif\" font-size=\"14.00\">module = nn.Linear(10 &#45;&gt; 1)</text>\\n<text text-anchor=\"start\" x=\"49.5666\" y=\"-163.464\" font-family=\"Times,serif\" font-size=\"14.00\">reverseMap = {}</text>\\n<text text-anchor=\"middle\" x=\"129.967\" y=\"-149.464\" font-family=\"Times,serif\" font-size=\"14.00\">gradOutput = {Tensor[1]}</text>\\n</a>\\n</g>\\n</g>\\n<!-- n2 -->\\n<g id=\"node2\" class=\"node\"><title>n2</title>\\n<g id=\"a_node2\"><a xlink:title=\"[[C]]:&#45;1_\">\\n<ellipse fill=\"none\" stroke=\"black\" cx=\"129.967\" cy=\"-45.2548\" rx=\"114.56\" ry=\"45.011\"/>\\n<text text-anchor=\"middle\" x=\"129.967\" y=\"-62.0548\" font-family=\"Times,serif\" font-size=\"14.00\">Node2</text>\\n<text text-anchor=\"start\" x=\"56.8058\" y=\"-48.0548\" font-family=\"Times,serif\" font-size=\"14.00\">input = {Tensor[1]}</text>\\n<text text-anchor=\"start\" x=\"56.8058\" y=\"-34.0548\" font-family=\"Times,serif\" font-size=\"14.00\">reverseMap = {}</text>\\n<text text-anchor=\"middle\" x=\"129.967\" y=\"-20.0548\" font-family=\"Times,serif\" font-size=\"14.00\">gradOutput = {Tensor[1]}</text>\\n</a>\\n</g>\\n</g>\\n<!-- n1&#45;&gt;n2 -->\\n<g id=\"edge1\" class=\"edge\"><title>n1&#45;&gt;n2</title>\\n<path fill=\"none\" stroke=\"black\" d=\"M129.967,-126.382C129.967,-117.991 129.967,-109.32 129.967,-100.921\"/>\\n<polygon fill=\"black\" stroke=\"black\" points=\"133.468,-100.846 129.967,-90.8463 126.468,-100.846 133.468,-100.846\"/>\\n</g>\\n<!-- n3 -->\\n<g id=\"node3\" class=\"node\"><title>n3</title>\\n<g id=\"a_node3\"><a xlink:title=\"[[string &quot;local function get_network()...&quot;]]:8_\">\\n<ellipse fill=\"none\" stroke=\"black\" cx=\"129.967\" cy=\"-327.973\" rx=\"119.96\" ry=\"55.3091\"/>\\n<text text-anchor=\"middle\" x=\"129.967\" y=\"-351.773\" font-family=\"Times,serif\" font-size=\"14.00\">h2 (3)</text>\\n<text text-anchor=\"start\" x=\"53.3058\" y=\"-337.773\" font-family=\"Times,serif\" font-size=\"14.00\">input = {Tensor[10]}</text>\\n<text text-anchor=\"start\" x=\"53.3058\" y=\"-323.773\" font-family=\"Times,serif\" font-size=\"14.00\">module = nn.Sigmoid</text>\\n<text text-anchor=\"start\" x=\"53.3058\" y=\"-309.773\" font-family=\"Times,serif\" font-size=\"14.00\">reverseMap = {}</text>\\n<text text-anchor=\"middle\" x=\"129.967\" y=\"-295.773\" font-family=\"Times,serif\" font-size=\"14.00\">gradOutput = {Tensor[10]}</text>\\n</a>\\n</g>\\n</g>\\n<!-- n3&#45;&gt;n1 -->\\n<g id=\"edge2\" class=\"edge\"><title>n3&#45;&gt;n1</title>\\n<path fill=\"none\" stroke=\"black\" d=\"M129.967,-272.416C129.967,-264.131 129.967,-255.517 129.967,-247.047\"/>\\n<polygon fill=\"black\" stroke=\"black\" points=\"133.468,-246.819 129.967,-236.819 126.468,-246.819 133.468,-246.819\"/>\\n</g>\\n<!-- n4 -->\\n<g id=\"node4\" class=\"node\"><title>n4</title>\\n<g id=\"a_node4\"><a xlink:title=\"[[string &quot;local function get_network()...&quot;]]:7_\">\\n<ellipse fill=\"none\" stroke=\"black\" cx=\"129.967\" cy=\"-474.281\" rx=\"129.935\" ry=\"55.3091\"/>\\n<text text-anchor=\"middle\" x=\"129.967\" y=\"-498.081\" font-family=\"Times,serif\" font-size=\"14.00\">h1 (4)</text>\\n<text text-anchor=\"start\" x=\"46.0666\" y=\"-484.081\" font-family=\"Times,serif\" font-size=\"14.00\">input = {Tensor[20]}</text>\\n<text text-anchor=\"start\" x=\"46.0666\" y=\"-470.081\" font-family=\"Times,serif\" font-size=\"14.00\">module = nn.Linear(20 &#45;&gt; 10)</text>\\n<text text-anchor=\"start\" x=\"46.0666\" y=\"-456.081\" font-family=\"Times,serif\" font-size=\"14.00\">reverseMap = {}</text>\\n<text text-anchor=\"middle\" x=\"129.967\" y=\"-442.081\" font-family=\"Times,serif\" font-size=\"14.00\">gradOutput = {Tensor[10]}</text>\\n</a>\\n</g>\\n</g>\\n<!-- n4&#45;&gt;n3 -->\\n<g id=\"edge3\" class=\"edge\"><title>n4&#45;&gt;n3</title>\\n<path fill=\"none\" stroke=\"black\" d=\"M129.967,-418.724C129.967,-410.44 129.967,-401.826 129.967,-393.356\"/>\\n<polygon fill=\"black\" stroke=\"black\" points=\"133.468,-393.128 129.967,-383.128 126.468,-393.128 133.468,-393.128\"/>\\n</g>\\n<!-- n5 -->\\n<g id=\"node5\" class=\"node\"><title>n5</title>\\n<g id=\"a_node5\"><a xlink:title=\"[[string &quot;local function get_network()...&quot;]]:3_\">\\n<ellipse fill=\"none\" stroke=\"black\" cx=\"129.967\" cy=\"-620.59\" rx=\"119.96\" ry=\"55.3091\"/>\\n<text text-anchor=\"middle\" x=\"129.967\" y=\"-644.39\" font-family=\"Times,serif\" font-size=\"14.00\">input (5)</text>\\n<text text-anchor=\"start\" x=\"53.3058\" y=\"-630.39\" font-family=\"Times,serif\" font-size=\"14.00\">input = {Tensor[20]}</text>\\n<text text-anchor=\"start\" x=\"53.3058\" y=\"-616.39\" font-family=\"Times,serif\" font-size=\"14.00\">module = nn.Identity</text>\\n<text text-anchor=\"start\" x=\"53.3058\" y=\"-602.39\" font-family=\"Times,serif\" font-size=\"14.00\">reverseMap = {}</text>\\n<text text-anchor=\"middle\" x=\"129.967\" y=\"-588.39\" font-family=\"Times,serif\" font-size=\"14.00\">gradOutput = {Tensor[20]}</text>\\n</a>\\n</g>\\n</g>\\n<!-- n5&#45;&gt;n4 -->\\n<g id=\"edge4\" class=\"edge\"><title>n5&#45;&gt;n4</title>\\n<path fill=\"none\" stroke=\"black\" d=\"M129.967,-565.033C129.967,-556.748 129.967,-548.134 129.967,-539.664\"/>\\n<polygon fill=\"black\" stroke=\"black\" points=\"133.468,-539.437 129.967,-529.437 126.468,-539.437 133.468,-539.437\"/>\\n</g>\\n<!-- n6 -->\\n<g id=\"node6\" class=\"node\"><title>n6</title>\\n<g id=\"a_node6\"><a xlink:title=\"[[C]]:&#45;1_\">\\n<ellipse fill=\"none\" stroke=\"black\" cx=\"129.967\" cy=\"-756.999\" rx=\"119.96\" ry=\"45.011\"/>\\n<text text-anchor=\"middle\" x=\"129.967\" y=\"-773.799\" font-family=\"Times,serif\" font-size=\"14.00\">Node6</text>\\n<text text-anchor=\"start\" x=\"53.3058\" y=\"-759.799\" font-family=\"Times,serif\" font-size=\"14.00\">input = {Tensor[20]}</text>\\n<text text-anchor=\"start\" x=\"53.3058\" y=\"-745.799\" font-family=\"Times,serif\" font-size=\"14.00\">reverseMap = {}</text>\\n<text text-anchor=\"middle\" x=\"129.967\" y=\"-731.799\" font-family=\"Times,serif\" font-size=\"14.00\">gradOutput = {Tensor[20]}</text>\\n</a>\\n</g>\\n</g>\\n<!-- n6&#45;&gt;n5 -->\\n<g id=\"edge5\" class=\"edge\"><title>n6&#45;&gt;n5</title>\\n<path fill=\"none\" stroke=\"black\" d=\"M129.967,-711.616C129.967,-703.372 129.967,-694.608 129.967,-685.909\"/>\\n<polygon fill=\"black\" stroke=\"black\" points=\"133.468,-685.761 129.967,-675.761 126.468,-685.762 133.468,-685.761\"/>\\n</g>\\n</g>\\n</svg>\\n'); // clear any previous plot in window_id     \n",
       "  });\n",
       "</script>\n",
       "<div id=\"170864b3-51c1-48bb-c8b5-822ee5016f7f\"></div>\n"
      ]
     },
     "metadata": {},
     "output_type": "display_data"
    }
   ],
   "source": [
    "local function get_network()\n",
    "    -- it is common style to mark inputs with identity nodes for clarity.\n",
    "    local input = nn.Identity()()\n",
    "\n",
    "    -- each hidden layer is achieved by connecting the previous one\n",
    "    -- here we define a single hidden layer network\n",
    "    local h1 = nn.Linear(20, 10)(input)\n",
    "    local h2 = nn.Sigmoid()(h1)\n",
    "    local output = nn.Linear(10, 1)(h2)\n",
    "    \n",
    "    -- the following function call inspects the local variables in this\n",
    "    -- function and finds the nodes corresponding to local variables.\n",
    "    nngraph.annotateNodes()\n",
    "    return nn.gModule({input}, {output}) \n",
    "end\n",
    "mlp = get_network()\n",
    "x = torch.rand(20)\n",
    "dx = torch.rand(1)\n",
    "mlp:updateOutput(x)\n",
    "mlp:updateGradInput(x, dx)\n",
    "mlp:accGradParameters(x, dx)\n",
    "\n",
    "-- draw graph (the forward graph, '.fg')\n",
    "-- this will produce an SVG in the runtime directory\n",
    "graph.dot(mlp.fg, 'MLP', 'MLP_Annotated')\n",
    "itorch.image('MLP_Annotated.svg')"
   ]
  },
  {
   "cell_type": "code",
   "execution_count": 0,
   "metadata": {
    "autoscroll": "json-false",
    "collapsed": false,
    "ein.tags": [
     "worksheet-0"
    ]
   },
   "outputs": [
    {
     "data": {
      "text/html": [
       "<script type=\"text/javascript\">\n",
       "  $(function() {\n",
       "    $(\"#6df259df-00d6-4c1d-cc95-9a45b54cc3c1\").html('<?xml version=\"1.0\" encoding=\"UTF-8\" standalone=\"no\"?>\\n<!DOCTYPE svg PUBLIC \"-//W3C//DTD SVG 1.1//EN\"\\n \"http://www.w3.org/Graphics/SVG/1.1/DTD/svg11.dtd\">\\n<!-- Generated by graphviz version 2.38.0 (20140413.2041)\\n -->\\n<!-- Title: G Pages: 1 -->\\n<svg width=\"268pt\" height=\"674pt\"\\n viewBox=\"0.00 0.00 267.93 673.86\" xmlns=\"http://www.w3.org/2000/svg\" xmlns:xlink=\"http://www.w3.org/1999/xlink\">\\n<g id=\"graph0\" class=\"graph\" transform=\"scale(1 1) rotate(0) translate(4 669.862)\">\\n<title>G</title>\\n<polygon fill=\"white\" stroke=\"none\" points=\"-4,4 -4,-669.862 263.935,-669.862 263.935,4 -4,4\"/>\\n<text text-anchor=\"middle\" x=\"129.967\" y=\"-650.662\" font-family=\"Times,serif\" font-size=\"14.00\">MyMLPError</text>\\n<!-- n1 -->\\n<g id=\"node1\" class=\"node\"><title>n1</title>\\n<g id=\"a_node1\"><a xlink:title=\"[[string &quot;&#45;&#45; We need to set debug flag to true...&quot;]]:12_\">\\n<ellipse fill=\"none\" stroke=\"black\" cx=\"129.967\" cy=\"-142.066\" rx=\"125.035\" ry=\"35.2113\"/>\\n<text text-anchor=\"middle\" x=\"129.967\" y=\"-151.866\" font-family=\"Times,serif\" font-size=\"14.00\">output (1)</text>\\n<text text-anchor=\"start\" x=\"49.5666\" y=\"-137.866\" font-family=\"Times,serif\" font-size=\"14.00\">module = nn.Linear(10 &#45;&gt; 1)</text>\\n<text text-anchor=\"middle\" x=\"129.967\" y=\"-123.866\" font-family=\"Times,serif\" font-size=\"14.00\">reverseMap = {}</text>\\n</a>\\n</g>\\n</g>\\n<!-- n2 -->\\n<g id=\"node2\" class=\"node\"><title>n2</title>\\n<g id=\"a_node2\"><a xlink:title=\"[[C]]:&#45;1_\">\\n<ellipse fill=\"none\" stroke=\"black\" cx=\"129.967\" cy=\"-35.3553\" rx=\"78.145\" ry=\"35.2113\"/>\\n<text text-anchor=\"middle\" x=\"129.967\" y=\"-45.1553\" font-family=\"Times,serif\" font-size=\"14.00\">Node2</text>\\n<text text-anchor=\"start\" x=\"82.7619\" y=\"-31.1553\" font-family=\"Times,serif\" font-size=\"14.00\">input = {}</text>\\n<text text-anchor=\"middle\" x=\"129.967\" y=\"-17.1553\" font-family=\"Times,serif\" font-size=\"14.00\">reverseMap = {}</text>\\n</a>\\n</g>\\n</g>\\n<!-- n1&#45;&gt;n2 -->\\n<g id=\"edge1\" class=\"edge\"><title>n1&#45;&gt;n2</title>\\n<path fill=\"none\" stroke=\"black\" d=\"M129.967,-106.49C129.967,-98.3583 129.967,-89.5777 129.967,-81.0721\"/>\\n<polygon fill=\"black\" stroke=\"black\" points=\"133.468,-80.8954 129.967,-70.8954 126.468,-80.8955 133.468,-80.8954\"/>\\n</g>\\n<!-- n3 -->\\n<g id=\"node3\" class=\"node\"><title>n3</title>\\n<g id=\"a_node3\"><a xlink:title=\"[[string &quot;&#45;&#45; We need to set debug flag to true...&quot;]]:11_\">\\n<ellipse fill=\"none\" stroke=\"black\" cx=\"129.967\" cy=\"-248.777\" rx=\"97.4405\" ry=\"35.2113\"/>\\n<text text-anchor=\"middle\" x=\"129.967\" y=\"-258.577\" font-family=\"Times,serif\" font-size=\"14.00\">h2 (3)</text>\\n<text text-anchor=\"start\" x=\"69.0456\" y=\"-244.577\" font-family=\"Times,serif\" font-size=\"14.00\">module = nn.Sigmoid</text>\\n<text text-anchor=\"middle\" x=\"129.967\" y=\"-230.577\" font-family=\"Times,serif\" font-size=\"14.00\">reverseMap = {}</text>\\n</a>\\n</g>\\n</g>\\n<!-- n3&#45;&gt;n1 -->\\n<g id=\"edge2\" class=\"edge\"><title>n3&#45;&gt;n1</title>\\n<path fill=\"none\" stroke=\"black\" d=\"M129.967,-213.2C129.967,-205.069 129.967,-196.288 129.967,-187.783\"/>\\n<polygon fill=\"black\" stroke=\"black\" points=\"133.468,-187.606 129.967,-177.606 126.468,-187.606 133.468,-187.606\"/>\\n</g>\\n<!-- n4 -->\\n<g id=\"node4\" class=\"node\"><title>n4</title>\\n<g id=\"a_node4\"><a xlink:title=\"[[string &quot;&#45;&#45; We need to set debug flag to true...&quot;]]:10_\">\\n<ellipse fill=\"red\" stroke=\"black\" cx=\"129.967\" cy=\"-365.387\" rx=\"129.935\" ry=\"45.011\"/>\\n<text text-anchor=\"middle\" x=\"129.967\" y=\"-382.187\" font-family=\"Times,serif\" font-size=\"14.00\">h1 (4)</text>\\n<text text-anchor=\"start\" x=\"46.0666\" y=\"-368.187\" font-family=\"Times,serif\" font-size=\"14.00\">input = {Tensor[15]}</text>\\n<text text-anchor=\"start\" x=\"46.0666\" y=\"-354.187\" font-family=\"Times,serif\" font-size=\"14.00\">module = nn.Linear(20 &#45;&gt; 10)</text>\\n<text text-anchor=\"middle\" x=\"129.967\" y=\"-340.187\" font-family=\"Times,serif\" font-size=\"14.00\">reverseMap = {}</text>\\n</a>\\n</g>\\n</g>\\n<!-- n4&#45;&gt;n3 -->\\n<g id=\"edge3\" class=\"edge\"><title>n4&#45;&gt;n3</title>\\n<path fill=\"none\" stroke=\"black\" d=\"M129.967,-320.076C129.967,-311.656 129.967,-302.842 129.967,-294.413\"/>\\n<polygon fill=\"black\" stroke=\"black\" points=\"133.468,-294.375 129.967,-284.375 126.468,-294.375 133.468,-294.375\"/>\\n</g>\\n<!-- n5 -->\\n<g id=\"node5\" class=\"node\"><title>n5</title>\\n<g id=\"a_node5\"><a xlink:title=\"[[string &quot;&#45;&#45; We need to set debug flag to true...&quot;]]:6_\">\\n<ellipse fill=\"none\" stroke=\"black\" cx=\"129.967\" cy=\"-491.897\" rx=\"94.9811\" ry=\"45.011\"/>\\n<text text-anchor=\"middle\" x=\"129.967\" y=\"-508.697\" font-family=\"Times,serif\" font-size=\"14.00\">input (5)</text>\\n<text text-anchor=\"start\" x=\"70.799\" y=\"-494.697\" font-family=\"Times,serif\" font-size=\"14.00\">input = {Tensor[15]}</text>\\n<text text-anchor=\"start\" x=\"70.799\" y=\"-480.697\" font-family=\"Times,serif\" font-size=\"14.00\">module = nn.Identity</text>\\n<text text-anchor=\"middle\" x=\"129.967\" y=\"-466.697\" font-family=\"Times,serif\" font-size=\"14.00\">reverseMap = {}</text>\\n</a>\\n</g>\\n</g>\\n<!-- n5&#45;&gt;n4 -->\\n<g id=\"edge4\" class=\"edge\"><title>n5&#45;&gt;n4</title>\\n<path fill=\"none\" stroke=\"black\" d=\"M129.967,-446.297C129.967,-438.062 129.967,-429.378 129.967,-420.889\"/>\\n<polygon fill=\"black\" stroke=\"black\" points=\"133.468,-420.675 129.967,-410.675 126.468,-420.675 133.468,-420.675\"/>\\n</g>\\n<!-- n6 -->\\n<g id=\"node6\" class=\"node\"><title>n6</title>\\n<g id=\"a_node6\"><a xlink:title=\"[[C]]:&#45;1_\">\\n<ellipse fill=\"none\" stroke=\"black\" cx=\"129.967\" cy=\"-608.507\" rx=\"94.9811\" ry=\"35.2113\"/>\\n<text text-anchor=\"middle\" x=\"129.967\" y=\"-618.307\" font-family=\"Times,serif\" font-size=\"14.00\">Node6</text>\\n<text text-anchor=\"start\" x=\"70.799\" y=\"-604.307\" font-family=\"Times,serif\" font-size=\"14.00\">input = {Tensor[15]}</text>\\n<text text-anchor=\"middle\" x=\"129.967\" y=\"-590.307\" font-family=\"Times,serif\" font-size=\"14.00\">reverseMap = {}</text>\\n</a>\\n</g>\\n</g>\\n<!-- n6&#45;&gt;n5 -->\\n<g id=\"edge5\" class=\"edge\"><title>n6&#45;&gt;n5</title>\\n<path fill=\"none\" stroke=\"black\" d=\"M129.967,-573.12C129.967,-565.063 129.967,-556.283 129.967,-547.584\"/>\\n<polygon fill=\"black\" stroke=\"black\" points=\"133.468,-547.456 129.967,-537.456 126.468,-547.457 133.468,-547.456\"/>\\n</g>\\n</g>\\n</svg>\\n'); // clear any previous plot in window_id     \n",
       "  });\n",
       "</script>\n",
       "<div id=\"6df259df-00d6-4c1d-cc95-9a45b54cc3c1\"></div>\n"
      ]
     },
     "metadata": {},
     "output_type": "display_data"
    }
   ],
   "source": [
    "-- We need to set debug flag to true\n",
    "nngraph.setDebug(true)\n",
    "\n",
    "local function get_network()\n",
    "    -- it is common style to mark inputs with identity nodes for clarity.\n",
    "    local input = nn.Identity()()\n",
    "\n",
    "    -- each hidden layer is achieved by connecting the previous one\n",
    "    -- here we define a single hidden layer network\n",
    "    local h1 = nn.Linear(20, 10)(input)\n",
    "    local h2 = nn.Sigmoid()(h1)\n",
    "    local output = nn.Linear(10, 1)(h2)\n",
    "    \n",
    "    -- the following function call inspects the local variables in this\n",
    "    -- function and finds the nodes corresponding to local variables.\n",
    "    nngraph.annotateNodes()\n",
    "    return nn.gModule({input}, {output}) \n",
    "end\n",
    "mlp = get_network()\n",
    "mlp.name = 'MyMLPError'\n",
    "x = torch.rand(15) -- note that this input will cause runtime error\n",
    "\n",
    "-- We do protected call to avoid real error interrupting the notebook\n",
    "local o, err = pcall(function() mlp:updateOutput(x) end)\n",
    "itorch.image('MyMLPError.svg')"
   ]
  },
  {
   "cell_type": "code",
   "execution_count": 0,
   "metadata": {
    "autoscroll": "json-false",
    "collapsed": false,
    "ein.tags": [
     "worksheet-0"
    ]
   },
   "outputs": [
    {
     "ename": "[string \"function get_rnn(input_size, rnn_size)...\"]:20: ')' expected (to close '(' at line 19) near '<eof>'",
     "evalue": "",
     "output_type": "error",
     "traceback": [
      "[string \"function get_rnn(input_size, rnn_size)...\"]:20: ')' expected (to close '(' at line 19) near '<eof>'"
     ]
    }
   ],
   "source": [
    "function get_rnn(input_size, rnn_size)\n",
    "  \n",
    "    -- there are n+1 inputs (hiddens on each layer and x)\n",
    "    local input = nn.Identity()()\n",
    "    local prev_h = nn.Identity()()\n",
    "\n",
    "    -- RNN tick\n",
    "    local i2h = nn.Linear(input_size, rnn_size)(input)\n",
    "    local h2h = nn.Linear(rnn_size, rnn_size)(prev_h)\n",
    "    local added_h = nn.CAddTable()({i2h, h2h})\n",
    "    local next_h = nn.Tanh()(added_h)\n",
    "    \n",
    "    nngraph.annotateNodes()\n",
    "    return nn.gModule({input, prev_h}, {next_h})\n",
    "end\n",
    "\n",
    "local rnn_net = get_rnn(128, 128)\n",
    "graph.dot(rnn_net.fg, 'rnn_net', 'rnn_net')\n",
    "itorch.image('rnn_net.svg'"
   ]
  },
  {
   "cell_type": "code",
   "execution_count": 0,
   "metadata": {
    "autoscroll": "json-false",
    "collapsed": false,
    "ein.tags": [
     "worksheet-0"
    ]
   },
   "outputs": [
    {
     "ename": "[string \"-- connect RNN\\'s in time...\"]:6: attempt to call global 'get_rnn' (a nil value)\nstack traceback:\n\t[string \"-- connect RNN\\'s in time...\"]:6: in function 'get_rnn2'\n\t[string \"-- connect RNN\\'s in time...\"]:11: in main chunk\n\t[C]: in function 'xpcall'\n\t/Users/jm/torch/install/share/lua/5.1/itorch/main.lua:209: in function </Users/jm/torch/install/share/lua/5.1/itorch/main.lua:173>\n\t/Users/jm/torch/install/share/lua/5.1/lzmq/poller.lua:75: in function 'poll'\n\t/Users/jm/torch/install/share/lua/5.1/lzmq/impl/loop.lua:307: in function 'poll'\n\t/Users/jm/torch/install/share/lua/5.1/lzmq/impl/loop.lua:325: in function 'sleep_ex'\n\t/Users/jm/torch/install/share/lua/5.1/lzmq/impl/loop.lua:370: in function 'start'\n\t/Users/jm/torch/install/share/lua/5.1/itorch/main.lua:381: in main chunk\n\t[C]: in function 'require'\n\t(command line):1: in main chunk\n\t[C]: at 0x01014edd20",
     "evalue": "",
     "output_type": "error",
     "traceback": [
      "[string \"-- connect RNN\\'s in time...\"]:6: attempt to call global 'get_rnn' (a nil value)\nstack traceback:\n\t[string \"-- connect RNN\\'s in time...\"]:6: in function 'get_rnn2'\n\t[string \"-- connect RNN\\'s in time...\"]:11: in main chunk\n\t[C]: in function 'xpcall'\n\t/Users/jm/torch/install/share/lua/5.1/itorch/main.lua:209: in function </Users/jm/torch/install/share/lua/5.1/itorch/main.lua:173>\n\t/Users/jm/torch/install/share/lua/5.1/lzmq/poller.lua:75: in function 'poll'\n\t/Users/jm/torch/install/share/lua/5.1/lzmq/impl/loop.lua:307: in function 'poll'\n\t/Users/jm/torch/install/share/lua/5.1/lzmq/impl/loop.lua:325: in function 'sleep_ex'\n\t/Users/jm/torch/install/share/lua/5.1/lzmq/impl/loop.lua:370: in function 'start'\n\t/Users/jm/torch/install/share/lua/5.1/itorch/main.lua:381: in main chunk\n\t[C]: in function 'require'\n\t(command line):1: in main chunk\n\t[C]: at 0x01014edd20"
     ]
    }
   ],
   "source": [
    "-- connect RNN\\'s in time\n",
    "local function get_rnn2(input_size, rnn_size)\n",
    "    local input1 = nn.Identity()()\n",
    "    local input2 = nn.Identity()()\n",
    "    local prev_h = nn.Identity()()\n",
    "    local rnn_net1 = get_rnn(128, 128)({input1, prev_h})\n",
    "    local rnn_net2 = get_rnn(128, 128)({input2, rnn_net1})\n",
    "    nngraph.annotateNodes()\n",
    "    return nn.gModule({input1, input2, prev_h}, {rnn_net2})\n",
    "end\n",
    "local rnn_net2 = get_rnn2(128, 128)\n",
    "graph.dot(rnn_net2.fg, 'rnn_net2', 'rnn_net2')\n",
    "itorch.image('rnn_net2.svg')"
   ]
  },
  {
   "cell_type": "code",
   "execution_count": 0,
   "metadata": {
    "autoscroll": "json-false",
    "collapsed": false,
    "ein.tags": [
     "worksheet-0"
    ]
   },
   "outputs": [
    {
     "ename": "[string \"-- Even with variable naming, the graph becom...\"]:2: '=' expected near 'can'",
     "evalue": "",
     "output_type": "error",
     "traceback": [
      "[string \"-- Even with variable naming, the graph becom...\"]:2: '=' expected near 'can'"
     ]
    }
   ],
   "source": [
    "-- Even with variable naming, the graph becomes very complicated very\n",
    "quickly. One can then use custom annotations to mark certain paths.\n",
    "\n",
    "local function get_rnn2(input_size, rnn_size)\n",
    "    local input1 = nn.Identity()():annotate{graphAttributes = {style='filled', fillcolor='blue'}}\n",
    "    local input2 = nn.Identity()():annotate{graphAttributes = {style='filled', fillcolor='blue'}}\n",
    "    local prev_h = nn.Identity()():annotate{graphAttributes = {style='filled', fillcolor='blue'}}\n",
    "    local rnn_net1 = get_rnn(128, 128)({input1, prev_h}):annotate{graphAttributes = {style='filled', fillcolor='yellow'}}\n",
    "    local rnn_net2 = get_rnn(128, 128)({input2, rnn_net1}):annotate{graphAttributes = {style='filled', fillcolor='green'}}\n",
    "    nngraph.annotateNodes()\n",
    "    return nn.gModule({input1, input2, prev_h}, {rnn_net2})\n",
    "end\n",
    "local rnn_net3 = get_rnn2(128, 128)\n",
    "graph.dot(rnn_net3.fg, 'rnn_net3', 'rnn_net3')\n",
    "itorch.image('rnn_net3.svg')"
   ]
  },
  {
   "cell_type": "code",
   "execution_count": 0,
   "metadata": {
    "autoscroll": "json-false",
    "collapsed": false,
    "ein.tags": [
     "worksheet-0"
    ]
   },
   "outputs": [],
   "source": []
  }
 ],
 "metadata": {
  "kernelspec": {
   "display_name": "iTorch",
   "language": "lua",
   "name": "itorch"
  },
  "language_info": {
   "name": "lua",
   "version": "5.1"
  },
  "name": "DQN-Network.ipynb"
 },
 "nbformat": 4,
 "nbformat_minor": 0
}
